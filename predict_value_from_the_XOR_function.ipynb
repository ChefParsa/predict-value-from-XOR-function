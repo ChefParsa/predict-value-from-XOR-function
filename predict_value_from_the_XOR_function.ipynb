{
  "nbformat": 4,
  "nbformat_minor": 0,
  "metadata": {
    "colab": {
      "provenance": [],
      "authorship_tag": "ABX9TyMtb8RcqB48xgClb5KsZCAT",
      "include_colab_link": true
    },
    "kernelspec": {
      "name": "python3",
      "display_name": "Python 3"
    },
    "language_info": {
      "name": "python"
    }
  },
  "cells": [
    {
      "cell_type": "markdown",
      "metadata": {
        "id": "view-in-github",
        "colab_type": "text"
      },
      "source": [
        "<a href=\"https://colab.research.google.com/github/ChefParsa/predict-value-from-XOR-function/blob/NumPy/predict_value_from_the_XOR_function.ipynb\" target=\"_parent\"><img src=\"https://colab.research.google.com/assets/colab-badge.svg\" alt=\"Open In Colab\"/></a>"
      ]
    },
    {
      "cell_type": "code",
      "source": [
        "# @title import necessary library\n",
        "import numpy as np"
      ],
      "metadata": {
        "id": "Nqk_SKNmX6pC"
      },
      "execution_count": 118,
      "outputs": []
    },
    {
      "cell_type": "code",
      "source": [
        "# definie number of epoch\n",
        "epochs = 60000\n",
        "\n",
        "# define learning rate\n",
        "LR = 0.1\n",
        "\n",
        "# define layers size\n",
        "inputLayerSize, hiddenLayerSize, outputLayerSize = 2, 3, 1\n",
        "\n",
        "# define seed\n",
        "np.random.seed(42)"
      ],
      "metadata": {
        "id": "bSwepc0nQS2C"
      },
      "execution_count": 119,
      "outputs": []
    },
    {
      "cell_type": "code",
      "source": [
        "# define input data\n",
        "X = np.array([[0, 0], [0, 1], [1, 0], [1, 1]])\n",
        "\n",
        "# define correct answer\n",
        "Y = np.array([[0], [1], [1], [0]])"
      ],
      "metadata": {
        "id": "HxTZoNdOZAWH"
      },
      "execution_count": 120,
      "outputs": []
    },
    {
      "cell_type": "code",
      "source": [
        "# define sigmoid activation function\n",
        "def sigmoid(x):\n",
        "  return 1 / (1 + np.exp(-x))\n",
        "# define sigmoid prime (derivative of activation function)\n",
        "def sigmoid_prime(x):\n",
        "  return x * (1 - x)\n",
        "# define loss function\n",
        "def MSE(error):\n",
        "  squared_error = error ** 2\n",
        "  return np.mean(squared_error)"
      ],
      "metadata": {
        "id": "byvPumyLeGvD"
      },
      "execution_count": 121,
      "outputs": []
    },
    {
      "cell_type": "code",
      "source": [
        "class XOR_Model:\n",
        "  # initate weight\n",
        "  def __init__(self):\n",
        "    # hidden layer weight with size(2, 3)\n",
        "    self.hiddenLayerWeight = np.random.uniform(size=(inputLayerSize, hiddenLayerSize))\n",
        "    # output layer weight with size(3, 1)\n",
        "    self.outputLayerWeight = np.random.uniform(size=(hiddenLayerSize, outputLayerSize))\n",
        "  # train function\n",
        "  def train(self):\n",
        "    for epoch in range(epochs):\n",
        "      # forward pass\n",
        "      act_hidden = sigmoid(np.dot(X, self.hiddenLayerWeight))\n",
        "      output = sigmoid(np.dot(act_hidden, self.outputLayerWeight))\n",
        "\n",
        "      # calculate error\n",
        "      error = Y - output\n",
        "      # calculate loss\n",
        "      loss = MSE(error)\n",
        "\n",
        "      if epoch % 5000 == 0:\n",
        "        print(f\"Epoch : {epoch}, loss : {loss}\")\n",
        "\n",
        "      # backward pass\n",
        "      # Calculate delta for output layer\n",
        "      delta_output = error * sigmoid_prime(output)\n",
        "\n",
        "      # Update weights for output layer\n",
        "      # act_hidden.T (shape: (3, 4)), delta_output (shape: (4, 1))\n",
        "      self.outputLayerWeight += LR * act_hidden.T.dot(delta_output)\n",
        "\n",
        "      # Calculate delta for hidden layer\n",
        "      # delta_output (shape: (4, 1)), w_output.T (shape: (1, 3)), sigmoid_prime(act_hidden) (shape: (4, 3))\n",
        "      delta_hidden = delta_output.dot(self.outputLayerWeight.T) * sigmoid_prime(act_hidden)\n",
        "\n",
        "      # Update weights for hidden layer\n",
        "      # X.T (shape: (2, 4)), delta_hidden (shape: (4, 3))\n",
        "      self.hiddenLayerWeight += LR * X.T.dot(delta_hidden)"
      ],
      "metadata": {
        "id": "34lumlqdZ4or"
      },
      "execution_count": 122,
      "outputs": []
    },
    {
      "cell_type": "code",
      "source": [
        "# make a model object\n",
        "model = XOR_Model()"
      ],
      "metadata": {
        "id": "apgxLpTue7kg"
      },
      "execution_count": 123,
      "outputs": []
    },
    {
      "cell_type": "code",
      "source": [
        "model.train()"
      ],
      "metadata": {
        "colab": {
          "base_uri": "https://localhost:8080/"
        },
        "id": "wSaCcKBq2P1o",
        "outputId": "df1ba94c-745e-4152-f4cc-589c6112bbab"
      },
      "execution_count": 124,
      "outputs": [
        {
          "output_type": "stream",
          "name": "stdout",
          "text": [
            "Epoch : 0, loss : 0.2978475033585172\n",
            "Epoch : 5000, loss : 0.057244763779379614\n",
            "Epoch : 10000, loss : 0.00816359483588801\n",
            "Epoch : 15000, loss : 0.004314164819835061\n",
            "Epoch : 20000, loss : 0.002923145406582792\n",
            "Epoch : 25000, loss : 0.0022069234675809036\n",
            "Epoch : 30000, loss : 0.0017708750164424766\n",
            "Epoch : 35000, loss : 0.0014777506342793468\n",
            "Epoch : 40000, loss : 0.0012673064575126434\n",
            "Epoch : 45000, loss : 0.0011089578161003416\n",
            "Epoch : 50000, loss : 0.00098553475166544\n",
            "Epoch : 55000, loss : 0.000886657687861425\n"
          ]
        }
      ]
    },
    {
      "cell_type": "code",
      "source": [
        "# @title test model\n",
        "\n",
        "x_test = X[2] # [1, 0]\n",
        "\n",
        "act_hidden = sigmoid(np.dot(x_test, model.hiddenLayerWeight))\n",
        "output = sigmoid(np.dot(act_hidden, model.outputLayerWeight))\n",
        "np.round(output)"
      ],
      "metadata": {
        "colab": {
          "base_uri": "https://localhost:8080/"
        },
        "id": "F8piAb3D2ooo",
        "outputId": "92b6a422-5330-4012-c622-9cbdab09da3e"
      },
      "execution_count": 125,
      "outputs": [
        {
          "output_type": "execute_result",
          "data": {
            "text/plain": [
              "array([1.])"
            ]
          },
          "metadata": {},
          "execution_count": 125
        }
      ]
    }
  ]
}